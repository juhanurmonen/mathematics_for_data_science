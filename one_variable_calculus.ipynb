{
  "cells": [
    {
      "cell_type": "markdown",
      "id": "9ec73744-f5c9-4828-871b-90f8aa9b3e80",
      "metadata": {
        "id": "9ec73744-f5c9-4828-871b-90f8aa9b3e80"
      },
      "source": [
        "# Single variable calculus"
      ]
    },
    {
      "cell_type": "markdown",
      "id": "85bcf60f-b6f8-4a7a-8179-4d4f292f8244",
      "metadata": {
        "id": "85bcf60f-b6f8-4a7a-8179-4d4f292f8244"
      },
      "source": [
        "Real-valued functions operate on subsets of the set $\\mathbf{R}$ of the real numbers. If such a function has domain $X\\subseteq\\mathbf{R}$ ja range $Y\\subseteq\\mathbf{R}$, it is also a one-variable function. This is denoted by $f: X \\to Y$. Let us recall some properties of functions.\n",
        "\n",
        "* for every $x\\in X$ there is a unique $y\\in Y$ such that $f(x)=y$ (this a requirement of a function, compared to a relation)\n",
        "* if _also_ for every $y\\in Y$ there is an $x\\in X$ such that $f(x)=y$, such a a function is called _surjective_. This means that $f(X)=Y$\n",
        "* if for every $x, y\\in X$ so that $x\\not= y$ also $f(x)\\not= f(y)$, such a function is called _injective_.\n",
        "* functions with both injective and surjective properties are called _bijective_."
      ]
    },
    {
      "cell_type": "markdown",
      "id": "59bbc3e9-b51f-4018-891c-278cb5035e36",
      "metadata": {
        "id": "59bbc3e9-b51f-4018-891c-278cb5035e36"
      },
      "source": [
        "In many practical application $X, Y = \\mathbf{R}$. Graphical representation of this is two-dimensional coordinate system, where the variable $x$ runs through the horizontal axis and the variable $y$ tries to catch up on the vertical axis by following the rule given by the definition of $f$."
      ]
    },
    {
      "cell_type": "markdown",
      "id": "1f58793e-1a47-4872-9232-c21d11f74f7c",
      "metadata": {
        "id": "1f58793e-1a47-4872-9232-c21d11f74f7c"
      },
      "source": [
        "### Continuous function"
      ]
    },
    {
      "cell_type": "markdown",
      "id": "a151cd93-5acb-4398-a5fb-03583efb8136",
      "metadata": {
        "id": "a151cd93-5acb-4398-a5fb-03583efb8136"
      },
      "source": [
        "We can see even from definitions above that it is very general &ndash; indeed, there are a lot of real functions $x\\mapsto f(x)$. We usually consider the ones that behave properly. Don't worry, there are still [uncountably](https://en.wikipedia.org/wiki/Uncountable_set) many left even with such restrictions."
      ]
    },
    {
      "cell_type": "markdown",
      "id": "2124700b",
      "metadata": {
        "id": "2124700b"
      },
      "source": [
        "A real function $f:\\mathbf{X}\\to\\mathbf{R}$ is _continuous at point_ $a\\in\\mathbf{R}$, if the following conditions are satisfied:\n",
        "\n",
        "* $f$ is defined at $a$\n",
        "* $\\lim_{x\\to a}f(x)$ exists\n",
        "* $\\lim_{x\\to a}f(x)=a$"
      ]
    },
    {
      "cell_type": "markdown",
      "id": "8d2c7832",
      "metadata": {
        "id": "8d2c7832"
      },
      "source": [
        "Function $f:\\mathbf{X}\\to\\mathbf{R}$ is _continuous_ if it is continuous at every point $a\\in\\mathbf{X}$. A function that is not continuous is _discontinuous_."
      ]
    },
    {
      "cell_type": "markdown",
      "id": "4fd7d80a",
      "metadata": {
        "id": "4fd7d80a"
      },
      "source": [
        "The idea is that small changes in the values of domain guarantee small changes in the range as well."
      ]
    },
    {
      "cell_type": "markdown",
      "id": "b069c039",
      "metadata": {
        "id": "b069c039"
      },
      "source": [
        "**Example**. Consider the function $f:\\mathbf{R}\\to\\mathbf{R}$, $f(x)=x^3$. Let $a\\in\\mathbf{R}$. Then\n",
        "* $f(a) = a^3$\n",
        "* $\\lim_{x\\to a}f(x) = \\lim_{x\\to a} x^3 = a^3$ and also exists."
      ]
    },
    {
      "cell_type": "markdown",
      "id": "cfba97dd-e886-4ef3-9c38-45d9b58f170e",
      "metadata": {
        "id": "cfba97dd-e886-4ef3-9c38-45d9b58f170e"
      },
      "source": [
        "## Derivative"
      ]
    },
    {
      "cell_type": "markdown",
      "id": "443a3721-946f-4fdb-be57-10a8d2cf22ee",
      "metadata": {
        "id": "443a3721-946f-4fdb-be57-10a8d2cf22ee"
      },
      "source": [
        "Possibly the most important concept of _calculus_, at least of _differential calculus_  is the concept of __derivative__. Oversimplifying, derivatives are calculations of the rates of changes. Although the idea is rather simple, they have numerous properties, both earthbound and extraterrestrial. Whereas the concept of a derivative goes back to the ancient Greek, by the work of Euclid and Archimedes in circa 300&ndash; 200 BC, as creators of the modern calculus are considered _Gottfried Wilhelm Leibniz_ and _Sir Isaac Newton_, independently, in the late 17th century.\n",
        "\n",
        "* [Wikipedia: Calculus](https://en.wikipedia.org/wiki/Calculus)\n",
        "* [Wikipedia: Differential Calculus](https://en.wikipedia.org/wiki/Differential_calculus)\n",
        "* [Wikipedia: Isaac Barrow](https://en.wikipedia.org/wiki/Isaac_Barrow)\n",
        "* [Wikipedia: Gottfried Wilhelm Leibniz](https://en.wikipedia.org/wiki/Gottfried_Wilhelm_Leibniz)\n",
        "* [Wikipedia: Isaac Newton](https://en.wikipedia.org/wiki/Isaac_Newton)"
      ]
    },
    {
      "cell_type": "markdown",
      "id": "1c2c0bf1-f69c-4b12-bd56-7dfbf759857a",
      "metadata": {
        "id": "1c2c0bf1-f69c-4b12-bd56-7dfbf759857a"
      },
      "source": [
        "### Definition of Derivative"
      ]
    },
    {
      "cell_type": "markdown",
      "id": "f9284b6d",
      "metadata": {
        "id": "f9284b6d"
      },
      "source": [
        "The _derivative_ of a real-valued function $f:\\mathbf{X}\\to\\mathbf{R}$, $\\mathbf{X}\\subseteq\\mathbf{R}$, _at point_ $a\\in\\mathbf{X}$ is defined to be\n",
        "* $\\lim_{h\\to 0}\\frac{f(a+h)-f(a)}{h}$, if the limit exists"
      ]
    },
    {
      "cell_type": "markdown",
      "id": "f8ed34a1",
      "metadata": {
        "id": "f8ed34a1"
      },
      "source": [
        "The derivative of $f$ at point $a\\in\\mathbf{R}$ is denoted by $f'(a)$, or $\\frac{df}{dx}a$ or $Df(a)$."
      ]
    },
    {
      "cell_type": "markdown",
      "id": "00f19a99",
      "metadata": {
        "id": "00f19a99"
      },
      "source": [
        "Calculating the derivative is called _differentiation_. A function is _differentiable_ if the derivative of the function exists at all points of its domain. In particular, every differentiable function is continuous &ndash; notice that the reserve statement is not always true."
      ]
    },
    {
      "cell_type": "markdown",
      "id": "d0995931",
      "metadata": {
        "id": "d0995931"
      },
      "source": [
        "We seldom need the definition of derivative per se in practical situations. Instead, there are several useful rules which to apply."
      ]
    },
    {
      "cell_type": "markdown",
      "id": "d60a13d9",
      "metadata": {
        "id": "d60a13d9"
      },
      "source": [
        "**Example**. Basically in the defintion of the derivative, the point is whether $h$ can be divided out in the fraction. Let's see how this is done in the case $f:\\mathbf{R}\\to\\mathbf{R}$, $f(x)=x^3$. Let $a\\in\\mathbf{R}$.\n",
        "\n",
        "$$\n",
        "\\lim_{h\\to 0}\\frac{f(a+h)-f(a)}{h} =\n",
        "$$\n",
        "$$\n",
        "\\lim_{h\\to 0}\\frac{(a+h)^3-a^3}{h} =\n",
        "$$\n",
        "$$\n",
        "\\lim_{h\\to 0}\\frac{a^3 + 3\\cdot a^2\\cdot h + 3\\cdot a\\cdot h^2 + h^3 - a^3}{h} =\n",
        "$$\n",
        "$$\n",
        "\\lim_{h\\to 0}(3\\cdot a^2 + 3\\cdot a\\cdot h + h^2) =\n",
        "$$\n",
        "$$\n",
        "3\\cdot a^2\n",
        "$$"
      ]
    },
    {
      "cell_type": "markdown",
      "id": "a265f906-106d-45cd-aeef-d0b67054dbfa",
      "metadata": {
        "id": "a265f906-106d-45cd-aeef-d0b67054dbfa"
      },
      "source": [
        "### Derivation rules"
      ]
    },
    {
      "cell_type": "markdown",
      "id": "85f7b8ff",
      "metadata": {
        "id": "85f7b8ff"
      },
      "source": [
        "Next, let's consider derivation rules for useful functions.\n",
        "\n",
        "* algebraic functions: $D(x^n) = n\\cdot x^{n-1}$, for any $n\\in\\mathbf{R}$\n",
        "* trigonometric functions: $D(\\sin(x)) = \\cos(x)$ and $D(\\cos(x)) = -\\sin(x)$\n",
        "* exponential functions: $D(e^x) = e^x$ and $D(a^x) = a^x\\cdot ln(a)$, where $a>0$\n",
        "* logarithmic functions: $D(ln(x))=\\frac{1}{x}$, $x>0$, and $D(log_a(x))=\\frac{1}{x\\cdot ln(a)}$, where $x, a>0$\n",
        "\n"
      ]
    },
    {
      "cell_type": "markdown",
      "id": "a55541a5",
      "metadata": {
        "id": "a55541a5"
      },
      "source": [
        "Assume the $f$ and $g$ are two functions and their derivatives are known, and $a, b\\in\\mathbf{R}$ are constants. Then the rule for differentiating\n",
        "\n",
        "* _sum_: $D(a\\cdot f + b\\cdot g) = a\\cdot D(f) + b\\cdot D(g)$\n",
        "* _product_: $D(f\\cdot g) = f\\cdot D(g) + g\\cdot D(f)$\n",
        "* _quotient_: $D(\\frac{f}{g}) = \\frac{g\\cdot D(f) - f\\cdot D(g)}{g^2}$\n",
        "* _chain rule_: $D(f(g(x)) = D(f(g(x)))\\cdot D(g(x))$\n",
        "* _inverse rule_: $D(f^{-1})=\\frac{1}{D(f)}$, for $f^{-1}$ the inverse function of $f$"
      ]
    },
    {
      "cell_type": "markdown",
      "id": "c2de3cf8",
      "metadata": {
        "id": "c2de3cf8"
      },
      "source": [
        "### Higher-order derivatives"
      ]
    },
    {
      "cell_type": "markdown",
      "id": "134d207f",
      "metadata": {
        "id": "134d207f"
      },
      "source": [
        "When the derivative function of a differentiable function $f$ is also differentiable, we can derivate the resulting funtion, too. The derivate of $f$ is called _the first derivative_, denoted by $f^{\\prime}$, and its derivative is called _the second derivative_, denoted by $f^{\\prime\\prime}$. This process can be continued, as long as the resulting derivative function remains differentiable. If the function $f$ can be derivated $n$ times, it is called $n$ times differentiable and this is denoted by $f^{(n)}$. Many functions are even infinitely differentiable &ndash; polynomials are good examples of such functions."
      ]
    },
    {
      "cell_type": "markdown",
      "source": [
        "### Limits with SymPy"
      ],
      "metadata": {
        "id": "Ah3_374FNFqH"
      },
      "id": "Ah3_374FNFqH"
    },
    {
      "cell_type": "code",
      "source": [
        "# Import library\n",
        "\n",
        "import sympy\n",
        "\n",
        "from sympy import *"
      ],
      "metadata": {
        "id": "Z4MKsm7fN7v7"
      },
      "id": "Z4MKsm7fN7v7",
      "execution_count": 1,
      "outputs": []
    },
    {
      "cell_type": "markdown",
      "source": [
        "Python __SymPy__ library is intended for _symbolic_ calculations. Limits can be calculated with SymPy's **limit()** function. Its syntax is <code>sympy.limit(function, variable, point)</code>.\n",
        "\n",
        "In the following example we apply this for the function $f(x)=x^3$ as x approaches to $3$."
      ],
      "metadata": {
        "id": "trT-kGboNJrf"
      },
      "id": "trT-kGboNJrf"
    },
    {
      "cell_type": "code",
      "source": [
        "# Introduce variable\n",
        "\n",
        "x = sympy.symbols('x')\n",
        "\n",
        "# Define Function\n",
        "\n",
        "f = x**3\n",
        "\n",
        "# Calculate limit\n",
        "\n",
        "limit_value = sympy.limit(f, x, 3)\n",
        "\n",
        "limit_value"
      ],
      "metadata": {
        "colab": {
          "base_uri": "https://localhost:8080/",
          "height": 37
        },
        "id": "SkRx6qD9OMA7",
        "outputId": "572a5f10-6b18-476c-d616-786b64e37342"
      },
      "id": "SkRx6qD9OMA7",
      "execution_count": 2,
      "outputs": [
        {
          "output_type": "execute_result",
          "data": {
            "text/plain": [
              "27"
            ],
            "text/latex": "$\\displaystyle 27$"
          },
          "metadata": {},
          "execution_count": 2
        }
      ]
    },
    {
      "cell_type": "markdown",
      "source": [
        "One should check manually that the result above and manual calculation match each other."
      ],
      "metadata": {
        "id": "EOGtvTqaOlg8"
      },
      "id": "EOGtvTqaOlg8"
    },
    {
      "cell_type": "markdown",
      "source": [
        "One side limits are important, e.g., in cases where we need to check continuity of a function."
      ],
      "metadata": {
        "id": "cog548VlO13D"
      },
      "id": "cog548VlO13D"
    },
    {
      "cell_type": "markdown",
      "source": [
        "The limit at a point $a\\in\\mathbf{R}$ exists if\n",
        "* the limit exists when $x\\to a+$, x approaches $a$ from the right\n",
        "* the limit exists when $x\\to a-$, x approaches $a$ from the left\n",
        "* $\\lim_{x\\to a-}f(x)=\\lim_{x\\to a+}f(x)$"
      ],
      "metadata": {
        "id": "6U0NQFmWbGPD"
      },
      "id": "6U0NQFmWbGPD"
    },
    {
      "cell_type": "markdown",
      "source": [
        "Let us get convinced that the limit of the function $x\\mapsto x^3$ exists and equals to $27$."
      ],
      "metadata": {
        "id": "XnAQcWJDcPLu"
      },
      "id": "XnAQcWJDcPLu"
    },
    {
      "cell_type": "code",
      "source": [
        "f = x**3\n",
        "\n",
        "limit_value_right = sympy.limit(f, x, 3, '+')\n",
        "print('Limit value from the right: ', limit_value_right)"
      ],
      "metadata": {
        "colab": {
          "base_uri": "https://localhost:8080/"
        },
        "id": "27q0lEl4byNs",
        "outputId": "bd94b7ae-7ff8-4d0d-9a2b-92cf43d4f1ef"
      },
      "id": "27q0lEl4byNs",
      "execution_count": 3,
      "outputs": [
        {
          "output_type": "stream",
          "name": "stdout",
          "text": [
            "Limit value from the right:  27\n"
          ]
        }
      ]
    },
    {
      "cell_type": "code",
      "source": [
        "f = x**3\n",
        "\n",
        "limit_value_left = sympy.limit(f, x, 3, '-')\n",
        "print('Limit value from the left: ', limit_value_left)"
      ],
      "metadata": {
        "colab": {
          "base_uri": "https://localhost:8080/"
        },
        "id": "VfVSm7vzcEcW",
        "outputId": "5bf5ef89-f6ae-4b01-cfbe-6dcebd1776c3"
      },
      "id": "VfVSm7vzcEcW",
      "execution_count": 4,
      "outputs": [
        {
          "output_type": "stream",
          "name": "stdout",
          "text": [
            "Limit value from the left:  27\n"
          ]
        }
      ]
    },
    {
      "cell_type": "markdown",
      "source": [
        "Graphically the function can be expressed as follows."
      ],
      "metadata": {
        "id": "tnp7QI6acq2E"
      },
      "id": "tnp7QI6acq2E"
    },
    {
      "cell_type": "code",
      "source": [
        "# Function to be considered\n",
        "\n",
        "f = x**3\n",
        "\n",
        "from sympy import plot\n",
        "\n",
        "plot(f)"
      ],
      "metadata": {
        "colab": {
          "base_uri": "https://localhost:8080/",
          "height": 504
        },
        "id": "yeiZ0ITvcwL0",
        "outputId": "40de72df-c113-4b43-b579-006786ba2387"
      },
      "id": "yeiZ0ITvcwL0",
      "execution_count": 5,
      "outputs": [
        {
          "output_type": "display_data",
          "data": {
            "text/plain": [
              "<Figure size 640x480 with 1 Axes>"
            ],
            "image/png": "[encoded data removed]"
          },
          "metadata": {}
        },
        {
          "output_type": "execute_result",
          "data": {
            "text/plain": [
              "<sympy.plotting.backends.matplotlibbackend.matplotlib.MatplotlibBackend at 0x7c730cf0ac10>"
            ]
          },
          "metadata": {},
          "execution_count": 5
        }
      ]
    },
    {
      "cell_type": "markdown",
      "source": [
        "Let us also consider the cases where infinity is involved, in one way or another."
      ],
      "metadata": {
        "id": "hwKH9CwcXtg1"
      },
      "id": "hwKH9CwcXtg1"
    },
    {
      "cell_type": "code",
      "source": [
        "# Define function\n",
        "\n",
        "g = 3/((2-x)+1/2)\n",
        "\n",
        "limit_g2 = sympy.limit(g, x, 5/2, '+')\n",
        "\n",
        "limit_g2"
      ],
      "metadata": {
        "colab": {
          "base_uri": "https://localhost:8080/",
          "height": 37
        },
        "id": "yR4xVGmfQGqf",
        "outputId": "6c351c2d-d071-4b14-e440-75ee0cccbfff"
      },
      "id": "yR4xVGmfQGqf",
      "execution_count": 6,
      "outputs": [
        {
          "output_type": "execute_result",
          "data": {
            "text/plain": [
              "-oo"
            ],
            "text/latex": "$\\displaystyle -\\infty$"
          },
          "metadata": {},
          "execution_count": 6
        }
      ]
    },
    {
      "cell_type": "code",
      "source": [
        "limit_g3 = sympy.limit(g, x, 5/2, '-')\n",
        "\n",
        "limit_g3"
      ],
      "metadata": {
        "colab": {
          "base_uri": "https://localhost:8080/",
          "height": 37
        },
        "id": "3vHL_PFyZsMg",
        "outputId": "c42ad907-4e6a-4548-c955-daeab369817a"
      },
      "id": "3vHL_PFyZsMg",
      "execution_count": 7,
      "outputs": [
        {
          "output_type": "execute_result",
          "data": {
            "text/plain": [
              "oo"
            ],
            "text/latex": "$\\displaystyle \\infty$"
          },
          "metadata": {},
          "execution_count": 7
        }
      ]
    },
    {
      "cell_type": "markdown",
      "source": [
        "This function graphically."
      ],
      "metadata": {
        "id": "uoE8UhfWZEfT"
      },
      "id": "uoE8UhfWZEfT"
    },
    {
      "cell_type": "code",
      "source": [
        "plot(g)"
      ],
      "metadata": {
        "colab": {
          "base_uri": "https://localhost:8080/",
          "height": 504
        },
        "id": "E0qSQ2PVRCTJ",
        "outputId": "8f17a216-afb3-470c-e2c2-89b3a2414d33"
      },
      "id": "E0qSQ2PVRCTJ",
      "execution_count": 8,
      "outputs": [
        {
          "output_type": "display_data",
          "data": {
            "text/plain": [
              "<Figure size 640x480 with 1 Axes>"
            ],
            "image/png": "[encoded data removed]"
          },
          "metadata": {}
        },
        {
          "output_type": "execute_result",
          "data": {
            "text/plain": [
              "<sympy.plotting.backends.matplotlibbackend.matplotlib.MatplotlibBackend at 0x7c7321c2f450>"
            ]
          },
          "metadata": {},
          "execution_count": 8
        }
      ]
    },
    {
      "cell_type": "markdown",
      "source": [
        "When $x$ approaches to $+\\infty$ or $-\\infty$, the results are as follows."
      ],
      "metadata": {
        "id": "4RRzqmtvaJpM"
      },
      "id": "4RRzqmtvaJpM"
    },
    {
      "cell_type": "code",
      "source": [
        "limit_g2_plus_infty = sympy.limit(g, x, sympy.oo, '+')\n",
        "\n",
        "limit_g2_plus_infty"
      ],
      "metadata": {
        "colab": {
          "base_uri": "https://localhost:8080/",
          "height": 37
        },
        "id": "YHWGC7KQaIil",
        "outputId": "a9279582-7552-4e31-cbf2-719357020573"
      },
      "id": "YHWGC7KQaIil",
      "execution_count": 9,
      "outputs": [
        {
          "output_type": "execute_result",
          "data": {
            "text/plain": [
              "0"
            ],
            "text/latex": "$\\displaystyle 0$"
          },
          "metadata": {},
          "execution_count": 9
        }
      ]
    },
    {
      "cell_type": "markdown",
      "id": "6c45ff89-f9b5-4c99-a48a-a6f48a1c01b7",
      "metadata": {
        "id": "6c45ff89-f9b5-4c99-a48a-a6f48a1c01b7"
      },
      "source": [
        "### Derivation with SymPy"
      ]
    },
    {
      "cell_type": "markdown",
      "id": "fbfc8f57",
      "metadata": {
        "id": "fbfc8f57"
      },
      "source": [
        "Python __SymPy__ library is intended for _symbolic_ calculations. The derivatives of functions can be calculated with the _diff_ method of SymPy."
      ]
    },
    {
      "cell_type": "markdown",
      "id": "deb802d2",
      "metadata": {
        "id": "deb802d2"
      },
      "source": [
        "Let us get back to our previous example, where $f:\\mathbf{R}\\to\\mathbf{R}$, $f(x)=x^3$, and we want to determine $D(f(a))$ for $a\\in\\mathbf{R}$."
      ]
    },
    {
      "cell_type": "code",
      "source": [
        "# Create symbol a\n",
        "\n",
        "a = sympy.Symbol('a')\n",
        "\n",
        "# Define function\n",
        "\n",
        "f = a**3\n",
        "\n",
        "# Calculate derivative\n",
        "\n",
        "derivative_f = f.diff(a)\n",
        "\n",
        "derivative_f"
      ],
      "metadata": {
        "colab": {
          "base_uri": "https://localhost:8080/",
          "height": 38
        },
        "id": "sSRqLzgOWIHb",
        "outputId": "9c763430-5e84-43cc-ec46-6d03c5b5ebca"
      },
      "id": "sSRqLzgOWIHb",
      "execution_count": 10,
      "outputs": [
        {
          "output_type": "execute_result",
          "data": {
            "text/plain": [
              "3*a**2"
            ],
            "text/latex": "$\\displaystyle 3 a^{2}$"
          },
          "metadata": {},
          "execution_count": 10
        }
      ]
    },
    {
      "cell_type": "markdown",
      "source": [
        "Another way of calculating derivatives and their values is the SymPy's _lambdify_ function. It accepts symbol and function as argument. The value at certain point in the previous example case could then be also calculated as follows."
      ],
      "metadata": {
        "id": "Pm_ghhiWYV7x"
      },
      "id": "Pm_ghhiWYV7x"
    },
    {
      "cell_type": "code",
      "source": [
        "# Create symbol x\n",
        "\n",
        "x = sympy.Symbol('x')\n",
        "\n",
        "# Define function\n",
        "\n",
        "f = x**3\n",
        "\n",
        "# lanbdify\n",
        "\n",
        "f_lambdified = lambdify(x, f)\n",
        "\n",
        "# Apply for x = 3\n",
        "\n",
        "f_lambdified(3)"
      ],
      "metadata": {
        "colab": {
          "base_uri": "https://localhost:8080/"
        },
        "id": "zA8cyjN-YU81",
        "outputId": "4fa41494-2724-48e3-c66e-fa59c52cc9d9"
      },
      "id": "zA8cyjN-YU81",
      "execution_count": 11,
      "outputs": [
        {
          "output_type": "execute_result",
          "data": {
            "text/plain": [
              "27"
            ]
          },
          "metadata": {},
          "execution_count": 11
        }
      ]
    },
    {
      "cell_type": "markdown",
      "source": [
        "Let us also see how derivation rules would look like from SymPy's perpective. Take, as an example, $f(x) = e^x$ and $g(x) = tan(x)$ and consider the quotient rule."
      ],
      "metadata": {
        "id": "avfuA-5BZvXV"
      },
      "id": "avfuA-5BZvXV"
    },
    {
      "cell_type": "code",
      "source": [
        "# Define f and g\n",
        "\n",
        "f4 = sympy.exp(x)\n",
        "g4 = sympy.tan(x)\n",
        "\n",
        "# Calculate D(f/g)\n",
        "\n",
        "derivative_quotient = (f4/g4).diff(x)\n",
        "\n",
        "derivative_quotient"
      ],
      "metadata": {
        "colab": {
          "base_uri": "https://localhost:8080/",
          "height": 60
        },
        "id": "peaFMvM3aESU",
        "outputId": "3c80a059-9bd6-4e30-eaf4-fe58fdde7392"
      },
      "id": "peaFMvM3aESU",
      "execution_count": 12,
      "outputs": [
        {
          "output_type": "execute_result",
          "data": {
            "text/plain": [
              "(-tan(x)**2 - 1)*exp(x)/tan(x)**2 + exp(x)/tan(x)"
            ],
            "text/latex": "$\\displaystyle \\frac{\\left(- \\tan^{2}{\\left(x \\right)} - 1\\right) e^{x}}{\\tan^{2}{\\left(x \\right)}} + \\frac{e^{x}}{\\tan{\\left(x \\right)}}$"
          },
          "metadata": {},
          "execution_count": 12
        }
      ]
    },
    {
      "cell_type": "markdown",
      "source": [
        "Can you check that manually?"
      ],
      "metadata": {
        "id": "HSjPidszPqjh"
      },
      "id": "HSjPidszPqjh"
    },
    {
      "cell_type": "markdown",
      "source": [
        "Derivatives of higher order are also not that difficult to calculate.\n",
        "\n",
        "Consider the function $$r(x)=x^{17} + x^{12}.$$"
      ],
      "metadata": {
        "id": "gubcHPMtiT5S"
      },
      "id": "gubcHPMtiT5S"
    },
    {
      "cell_type": "code",
      "source": [
        "# Define the function\n",
        "\n",
        "r = x**17+x**12"
      ],
      "metadata": {
        "id": "0KkY2debiS7R"
      },
      "id": "0KkY2debiS7R",
      "execution_count": 13,
      "outputs": []
    },
    {
      "cell_type": "markdown",
      "source": [
        "Let's calculate the first, tenth and 15th  derivatives of $r$."
      ],
      "metadata": {
        "id": "uT950wVqjRHS"
      },
      "id": "uT950wVqjRHS"
    },
    {
      "cell_type": "code",
      "source": [
        "# The first derivative of r\n",
        "\n",
        "r.diff(x)"
      ],
      "metadata": {
        "colab": {
          "base_uri": "https://localhost:8080/",
          "height": 38
        },
        "id": "ELiPsp_9jMzf",
        "outputId": "927ae31b-160e-40fe-8535-216be0ccfc01"
      },
      "id": "ELiPsp_9jMzf",
      "execution_count": 14,
      "outputs": [
        {
          "output_type": "execute_result",
          "data": {
            "text/plain": [
              "17*x**16 + 12*x**11"
            ],
            "text/latex": "$\\displaystyle 17 x^{16} + 12 x^{11}$"
          },
          "metadata": {},
          "execution_count": 14
        }
      ]
    },
    {
      "cell_type": "code",
      "source": [
        "# The tenth derivative of r\n",
        "\n",
        "r.diff(x, x, x, x, x, x, x, x, x, x)"
      ],
      "metadata": {
        "colab": {
          "base_uri": "https://localhost:8080/",
          "height": 38
        },
        "id": "fmMPM8PqjM5q",
        "outputId": "8da30b8c-7753-4ac4-c80f-228d5e42131c"
      },
      "id": "fmMPM8PqjM5q",
      "execution_count": 15,
      "outputs": [
        {
          "output_type": "execute_result",
          "data": {
            "text/plain": [
              "79833600*x**2*(884*x**5 + 3)"
            ],
            "text/latex": "$\\displaystyle 79833600 x^{2} \\left(884 x^{5} + 3\\right)$"
          },
          "metadata": {},
          "execution_count": 15
        }
      ]
    },
    {
      "cell_type": "code",
      "source": [
        "## Alternatively\n",
        "\n",
        "r.diff(x, 10)"
      ],
      "metadata": {
        "colab": {
          "base_uri": "https://localhost:8080/",
          "height": 38
        },
        "id": "bdUVCSsxj1PV",
        "outputId": "d980c389-1e61-44df-c3e3-9d44f6625537"
      },
      "id": "bdUVCSsxj1PV",
      "execution_count": 16,
      "outputs": [
        {
          "output_type": "execute_result",
          "data": {
            "text/plain": [
              "79833600*x**2*(884*x**5 + 3)"
            ],
            "text/latex": "$\\displaystyle 79833600 x^{2} \\left(884 x^{5} + 3\\right)$"
          },
          "metadata": {},
          "execution_count": 16
        }
      ]
    },
    {
      "cell_type": "code",
      "source": [
        "# The fifteenth derivative of r\n",
        "\n",
        "r.diff(x, 15)"
      ],
      "metadata": {
        "colab": {
          "base_uri": "https://localhost:8080/",
          "height": 38
        },
        "id": "RItiz6YHj5wg",
        "outputId": "84663faa-eabc-4d50-be35-e30c18ddd5fa"
      },
      "id": "RItiz6YHj5wg",
      "execution_count": 17,
      "outputs": [
        {
          "output_type": "execute_result",
          "data": {
            "text/plain": [
              "177843714048000*x**2"
            ],
            "text/latex": "$\\displaystyle 177843714048000 x^{2}$"
          },
          "metadata": {},
          "execution_count": 17
        }
      ]
    },
    {
      "cell_type": "markdown",
      "source": [
        "### Extreme values"
      ],
      "metadata": {
        "id": "XK-6W1GLzeOi"
      },
      "id": "XK-6W1GLzeOi"
    },
    {
      "cell_type": "markdown",
      "source": [
        "In many optimisation problems a key factor is to find local or absolute maximum values of the function descrinbing the optimisation problem."
      ],
      "metadata": {
        "id": "bBc-bBecFFCL"
      },
      "id": "bBc-bBecFFCL"
    },
    {
      "cell_type": "markdown",
      "source": [
        "Suppose $f:[a,b]\\to\\mathbf{R}$ is a function defined on an interval $[a,b]\\subseteq\\mathbf{R}$ and $x_0\\in [a,b]$.\n",
        "* $x_0$ is _a local maximum point_ of $f(x)$, if $f(x_0)\\geq f(x)$ for all $x\\in [c,d]\\subseteq [a,b]$ for some interval $[c,d]$ so that $x_0 \\in[c,d]$.\n",
        "* $x_0$ is an _global maximum point_ of $f(x)$, if $(x_0)\\geq f(x)$ for all $x\\in [a,b]$.\n",
        "* $x_0$ is _a local minimum point_ of $f(x)$, if $f(x_0)\\leq f(x)$ for all $x\\in [c,d]\\subseteq [a,b]$ for some interval $[c,d]$ so that $x_0 \\in[c,d]$.\n",
        "* $x_0$ is an _global minimum point_ of $f(x)$, if $(x_0)\\leq f(x)$ for all $x\\in [a,b]$."
      ],
      "metadata": {
        "id": "0EQIkO6XFheN"
      },
      "id": "0EQIkO6XFheN"
    },
    {
      "cell_type": "markdown",
      "source": [
        "Derivatives are used to find the critical points of a function and determine whether at a certain point function attains its maximum or minimum value. Either side of each extremum point slope can be either positive or negative and the change in slope to is used determine the extremum value of the function."
      ],
      "metadata": {
        "id": "iCo7xRJJzhpI"
      },
      "id": "iCo7xRJJzhpI"
    },
    {
      "cell_type": "markdown",
      "source": [
        "**Theorem**: Suppose $f:\\mathbf{R}\\to\\mathbf{R}$ is a differentiable function defined on an interval $[a,b]\\subseteq\\mathbf{R}$, $x_0\\in\\mathbf{R}$ and $f^\\prime(x_0)=0$. Then it holds that\n",
        "* $x_0$ is _a local maximum point_ of $f(x)$\n",
        "  * if $f^\\prime(x_0)$ changes sign from positive to negative as $x$ increases through $x_0$, i.e., $f^\\prime(x_0)> 0$ at every point $x$ sufficiently close to $x_0$ and left of $x_0$ and $f^\\prime(x)<0$ at every point sufficiently close to $x_0$ and right of $x_0$.\n",
        "* $x_0$ is _a local minimum point_ of $f(x)$\n",
        "  * if $f^\\prime(x_0)$ changes sign from negative to positive as $x$ increases through $x_0$, i.e., $f^\\prime(x_0)< 0$ at every point $x$ sufficiently close to $x_0$ and left of $x_0$ and $f^\\prime(x)>0$ at every point sufficiently close to $x_0$ and right of $x_0$.\n",
        "* if $f^\\prime(x)$ does not change sign as $x$ increases through $x_0$, then $x_0$ is not a local maximum point nor a local minimum point."
      ],
      "metadata": {
        "id": "FuO8JKrM0Y8A"
      },
      "id": "FuO8JKrM0Y8A"
    },
    {
      "cell_type": "markdown",
      "source": [
        "Especially this means that it in order find local extreme points finding points with derivatives zero at those points. Notice however, that extreme points may exist at points where there is no derivative, so the function is not differentiable at those points."
      ],
      "metadata": {
        "id": "CKoTMae06Frq"
      },
      "id": "CKoTMae06Frq"
    },
    {
      "cell_type": "markdown",
      "source": [
        "In order to **find maximum or minimum points** of a funcion $f:[a,b]\\to\\mathbf{R}$,\n",
        "* derivate $f(x)$\n",
        "* find the solutions for the equation $f^\\prime(x)=0$, i.e., find $A=\\{x\\in [a,b]\\mid f^\\prime(x)=0 \\}$\n",
        "* find the points where the derivative of $f$ does not exist, i.e., find $B=\\{x\\in [a,b]\\mid f^\\prime(x)\\textrm{ does not exists }\\}$.\n",
        "* determine the values $\\{f(x)\\mid x\\in A\\cup B\\cup\\{ a\\}\\cup\\{ b\\}\\}$ and find the minimum and maximum points."
      ],
      "metadata": {
        "id": "IIh_4MKzH0cL"
      },
      "id": "IIh_4MKzH0cL"
    },
    {
      "cell_type": "markdown",
      "source": [
        "**Example**. Consider the function $f:\\mathbf{R}\\to\\mathbf{R}$ defined by $f_\\mathrm{ext}(x)=3\\cdot x^4 + 20\\cdot x^2-5$. We find local extremes for the function."
      ],
      "metadata": {
        "id": "_Xqf09IHKMId"
      },
      "id": "_Xqf09IHKMId"
    },
    {
      "cell_type": "code",
      "source": [
        "# Define function\n",
        "\n",
        "f_ext = -10*x**4+20*x**2-5\n",
        "\n",
        "sympy.plot(f_ext)"
      ],
      "metadata": {
        "colab": {
          "base_uri": "https://localhost:8080/",
          "height": 504
        },
        "id": "qDY06zHSKqff",
        "outputId": "51ff75f3-935b-4e46-9657-e8a0604eecdd"
      },
      "id": "qDY06zHSKqff",
      "execution_count": 18,
      "outputs": [
        {
          "output_type": "display_data",
          "data": {
            "text/plain": [
              "<Figure size 640x480 with 1 Axes>"
            ],
            "image/png": "[encoded data removed]"
          },
          "metadata": {}
        },
        {
          "output_type": "execute_result",
          "data": {
            "text/plain": [
              "<sympy.plotting.backends.matplotlibbackend.matplotlib.MatplotlibBackend at 0x7c72f12efa50>"
            ]
          },
          "metadata": {},
          "execution_count": 18
        }
      ]
    },
    {
      "cell_type": "markdown",
      "source": [
        "Let's have a  closer look."
      ],
      "metadata": {
        "id": "pEq574oxLh9_"
      },
      "id": "pEq574oxLh9_"
    },
    {
      "cell_type": "code",
      "source": [
        "sympy.plot(f_ext,(x,-2,2))"
      ],
      "metadata": {
        "colab": {
          "base_uri": "https://localhost:8080/",
          "height": 504
        },
        "id": "N1W_sk6sLlCy",
        "outputId": "350ef952-a083-4aa7-a28e-0c759846a104"
      },
      "id": "N1W_sk6sLlCy",
      "execution_count": 19,
      "outputs": [
        {
          "output_type": "display_data",
          "data": {
            "text/plain": [
              "<Figure size 640x480 with 1 Axes>"
            ],
            "image/png": "[encoded data removed]"
          },
          "metadata": {}
        },
        {
          "output_type": "execute_result",
          "data": {
            "text/plain": [
              "<sympy.plotting.backends.matplotlibbackend.matplotlib.MatplotlibBackend at 0x7c72f1133e10>"
            ]
          },
          "metadata": {},
          "execution_count": 19
        }
      ]
    },
    {
      "cell_type": "markdown",
      "source": [
        "The function $f_\\mathrm{ext}(x)$ is differentiable at every point on $\\mathbf{R}$. Let's find the points where the derivative goes to zero."
      ],
      "metadata": {
        "id": "Y07ugubpML0A"
      },
      "id": "Y07ugubpML0A"
    },
    {
      "cell_type": "code",
      "source": [
        "# Find the points D(f(x))=0\n",
        "\n",
        "solveset(Eq(sympy.diff(f_ext,x),0))"
      ],
      "metadata": {
        "colab": {
          "base_uri": "https://localhost:8080/",
          "height": 37
        },
        "id": "-fV89LSTMfuv",
        "outputId": "516c0f1d-0c15-4e29-de48-d38c14635630"
      },
      "id": "-fV89LSTMfuv",
      "execution_count": 20,
      "outputs": [
        {
          "output_type": "execute_result",
          "data": {
            "text/plain": [
              "{-1, 0, 1}"
            ],
            "text/latex": "$\\displaystyle \\left\\{-1, 0, 1\\right\\}$"
          },
          "metadata": {},
          "execution_count": 20
        }
      ]
    },
    {
      "cell_type": "markdown",
      "source": [
        "Next we find the values of $f(x)$ for these points."
      ],
      "metadata": {
        "id": "bLU6lv2bM_t4"
      },
      "id": "bLU6lv2bM_t4"
    },
    {
      "cell_type": "code",
      "source": [
        "# values at extreme points\n",
        "\n",
        "f_ext.subs(x,-1)"
      ],
      "metadata": {
        "colab": {
          "base_uri": "https://localhost:8080/",
          "height": 37
        },
        "id": "5olrWSfiNRqM",
        "outputId": "ab4efb39-5a49-431f-df07-803260cb6cb9"
      },
      "id": "5olrWSfiNRqM",
      "execution_count": 21,
      "outputs": [
        {
          "output_type": "execute_result",
          "data": {
            "text/plain": [
              "5"
            ],
            "text/latex": "$\\displaystyle 5$"
          },
          "metadata": {},
          "execution_count": 21
        }
      ]
    },
    {
      "cell_type": "code",
      "source": [
        "f_ext.subs(x,0)"
      ],
      "metadata": {
        "colab": {
          "base_uri": "https://localhost:8080/",
          "height": 37
        },
        "id": "Smx8rmexNk17",
        "outputId": "ff1ad917-4465-4bf4-a663-822c03081f97"
      },
      "id": "Smx8rmexNk17",
      "execution_count": 22,
      "outputs": [
        {
          "output_type": "execute_result",
          "data": {
            "text/plain": [
              "-5"
            ],
            "text/latex": "$\\displaystyle -5$"
          },
          "metadata": {},
          "execution_count": 22
        }
      ]
    },
    {
      "cell_type": "code",
      "source": [
        "f_ext.subs(x,1)"
      ],
      "metadata": {
        "colab": {
          "base_uri": "https://localhost:8080/",
          "height": 37
        },
        "id": "kgmSOG-LNlCd",
        "outputId": "e4806f26-76f4-42e0-c399-e59fdc856e1c"
      },
      "id": "kgmSOG-LNlCd",
      "execution_count": 23,
      "outputs": [
        {
          "output_type": "execute_result",
          "data": {
            "text/plain": [
              "5"
            ],
            "text/latex": "$\\displaystyle 5$"
          },
          "metadata": {},
          "execution_count": 23
        }
      ]
    },
    {
      "cell_type": "markdown",
      "source": [
        "Let us also consider the values of $f^\\prime_\\mathrm{ext}(x)$ around these points in order to solve whether we are talking about local minimum or maximum points. The graphical representation of the function supports us here."
      ],
      "metadata": {
        "id": "pXJJLBPrNtBk"
      },
      "id": "pXJJLBPrNtBk"
    },
    {
      "cell_type": "code",
      "source": [
        "# Behaviour of D(f) near the extreme points\n",
        "\n",
        "sympy.diff(f_ext,x).subs(x,-1.2)"
      ],
      "metadata": {
        "colab": {
          "base_uri": "https://localhost:8080/",
          "height": 37
        },
        "id": "qSELfujJOXE-",
        "outputId": "21747502-9b93-402f-85bb-9a6006cbc000"
      },
      "id": "qSELfujJOXE-",
      "execution_count": 24,
      "outputs": [
        {
          "output_type": "execute_result",
          "data": {
            "text/plain": [
              "21.1200000000000"
            ],
            "text/latex": "$\\displaystyle 21.12$"
          },
          "metadata": {},
          "execution_count": 24
        }
      ]
    },
    {
      "cell_type": "code",
      "source": [
        "sympy.diff(f_ext,x).subs(x,-0.8)"
      ],
      "metadata": {
        "colab": {
          "base_uri": "https://localhost:8080/",
          "height": 37
        },
        "id": "XLTyEKzeO34K",
        "outputId": "1b7bd5fe-414b-4400-bb84-e4b9e18cf792"
      },
      "id": "XLTyEKzeO34K",
      "execution_count": 25,
      "outputs": [
        {
          "output_type": "execute_result",
          "data": {
            "text/plain": [
              "-11.5200000000000"
            ],
            "text/latex": "$\\displaystyle -11.52$"
          },
          "metadata": {},
          "execution_count": 25
        }
      ]
    },
    {
      "cell_type": "code",
      "source": [
        "sympy.diff(f_ext,x).subs(x,-0.2)"
      ],
      "metadata": {
        "colab": {
          "base_uri": "https://localhost:8080/",
          "height": 37
        },
        "id": "jMS5LihOO7uc",
        "outputId": "719a4ea4-28bc-4249-a253-e09be5577826"
      },
      "id": "jMS5LihOO7uc",
      "execution_count": 26,
      "outputs": [
        {
          "output_type": "execute_result",
          "data": {
            "text/plain": [
              "-7.68000000000000"
            ],
            "text/latex": "$\\displaystyle -7.68$"
          },
          "metadata": {},
          "execution_count": 26
        }
      ]
    },
    {
      "cell_type": "code",
      "source": [
        "sympy.diff(f_ext,x).subs(x,0.2)"
      ],
      "metadata": {
        "colab": {
          "base_uri": "https://localhost:8080/",
          "height": 37
        },
        "id": "Diu2GEcxPBnH",
        "outputId": "772d8da4-865e-48c3-d629-a730a7611fee"
      },
      "id": "Diu2GEcxPBnH",
      "execution_count": 27,
      "outputs": [
        {
          "output_type": "execute_result",
          "data": {
            "text/plain": [
              "7.68000000000000"
            ],
            "text/latex": "$\\displaystyle 7.68$"
          },
          "metadata": {},
          "execution_count": 27
        }
      ]
    },
    {
      "cell_type": "code",
      "source": [
        "sympy.diff(f_ext,x).subs(x,0.8)"
      ],
      "metadata": {
        "colab": {
          "base_uri": "https://localhost:8080/",
          "height": 37
        },
        "id": "4tCXzCOSPES_",
        "outputId": "981ce857-2a85-438b-dc94-1b439976456c"
      },
      "id": "4tCXzCOSPES_",
      "execution_count": 28,
      "outputs": [
        {
          "output_type": "execute_result",
          "data": {
            "text/plain": [
              "11.5200000000000"
            ],
            "text/latex": "$\\displaystyle 11.52$"
          },
          "metadata": {},
          "execution_count": 28
        }
      ]
    },
    {
      "cell_type": "code",
      "source": [
        "sympy.diff(f_ext,x).subs(x,1.2)"
      ],
      "metadata": {
        "colab": {
          "base_uri": "https://localhost:8080/",
          "height": 37
        },
        "id": "-oYTQLaXPEa-",
        "outputId": "b0b8c892-933e-41ce-83dc-c3f11a970856"
      },
      "id": "-oYTQLaXPEa-",
      "execution_count": 29,
      "outputs": [
        {
          "output_type": "execute_result",
          "data": {
            "text/plain": [
              "-21.1200000000000"
            ],
            "text/latex": "$\\displaystyle -21.12$"
          },
          "metadata": {},
          "execution_count": 29
        }
      ]
    },
    {
      "cell_type": "code",
      "source": [
        "sympy.limit(f_ext,x,-oo)"
      ],
      "metadata": {
        "colab": {
          "base_uri": "https://localhost:8080/",
          "height": 37
        },
        "id": "s45jJbkMPPab",
        "outputId": "457c2bb1-59bc-40d4-ec4f-0d541675f31c"
      },
      "id": "s45jJbkMPPab",
      "execution_count": 30,
      "outputs": [
        {
          "output_type": "execute_result",
          "data": {
            "text/plain": [
              "-oo"
            ],
            "text/latex": "$\\displaystyle -\\infty$"
          },
          "metadata": {},
          "execution_count": 30
        }
      ]
    },
    {
      "cell_type": "code",
      "source": [
        "sympy.limit(f_ext,x,oo)"
      ],
      "metadata": {
        "colab": {
          "base_uri": "https://localhost:8080/",
          "height": 37
        },
        "id": "iAGfIZb6PPvl",
        "outputId": "9d46c2af-3f6c-47d9-b6f6-d5e9c9e4b29e"
      },
      "id": "iAGfIZb6PPvl",
      "execution_count": 31,
      "outputs": [
        {
          "output_type": "execute_result",
          "data": {
            "text/plain": [
              "-oo"
            ],
            "text/latex": "$\\displaystyle -\\infty$"
          },
          "metadata": {},
          "execution_count": 31
        }
      ]
    },
    {
      "cell_type": "markdown",
      "source": [
        "Here we can conclude (explain why) that -1 and +1 are local maximum points and 0 is a local minimum point. The maximum points are also global maximum points as $f_\\mathrm{ext}(x)\\leq 5$ $\\forall x\\in\\mathbf{R}$. The minimum point is not a global minimum point as $\\lim_{x\\to-\\infty}f_\\mathrm{ext}(x)=-\\infty$ and  $\\lim_{x\\to\\infty}f_\\mathrm{ext}(x)=-\\infty$."
      ],
      "metadata": {
        "id": "gaweIBtVProR"
      },
      "id": "gaweIBtVProR"
    },
    {
      "cell_type": "markdown",
      "source": [
        "Compare the calculations above to the picture of the function and its derivative in the same coordinate system."
      ],
      "metadata": {
        "id": "0WrdA2QnRHz0"
      },
      "id": "0WrdA2QnRHz0"
    },
    {
      "cell_type": "code",
      "source": [
        "sympy.plot(f_ext,sympy.diff(f_ext),(x,-2,2))"
      ],
      "metadata": {
        "colab": {
          "base_uri": "https://localhost:8080/",
          "height": 504
        },
        "id": "6gmBPTn_PQE8",
        "outputId": "b103c428-af29-430b-d5de-bb46f3d3e004"
      },
      "id": "6gmBPTn_PQE8",
      "execution_count": 32,
      "outputs": [
        {
          "output_type": "display_data",
          "data": {
            "text/plain": [
              "<Figure size 640x480 with 1 Axes>"
            ],
            "image/png": "[encoded data removed]"
          },
          "metadata": {}
        },
        {
          "output_type": "execute_result",
          "data": {
            "text/plain": [
              "<sympy.plotting.backends.matplotlibbackend.matplotlib.MatplotlibBackend at 0x7c72f11e6790>"
            ]
          },
          "metadata": {},
          "execution_count": 32
        }
      ]
    },
    {
      "cell_type": "markdown",
      "id": "e967b2c5-fb00-4593-9635-e4eda5939181",
      "metadata": {
        "id": "e967b2c5-fb00-4593-9635-e4eda5939181"
      },
      "source": [
        "## Integrals"
      ]
    },
    {
      "cell_type": "markdown",
      "source": [
        "Another fundamental operation of calculus is _integration_. Traditionally integration is applied when trying to find volumes of areas under a curve (so-called _definitive integrals_). In addition integrals refer to finding an antiderivative of a function, that is, finding function whose derivative is the given function (so-called _indefinitive integrals_)."
      ],
      "metadata": {
        "id": "YQARWknSdLP_"
      },
      "id": "YQARWknSdLP_"
    },
    {
      "cell_type": "markdown",
      "source": [
        "Even though the idea of solving areas and volumes by breaking them up into infinitely small pieces has been applied ca 370 BC in ancient Greece, and in third century BC by Archimedes himself, next significant advances took place in the early 17th century. And finally the giants, Gottfried Wilhelm Leibniz and Sir Isaac Newton, creators of modern calculus, provided systematic approach to the subject."
      ],
      "metadata": {
        "id": "Ko0UyuKXh091"
      },
      "id": "Ko0UyuKXh091"
    },
    {
      "cell_type": "markdown",
      "source": [
        "One of the most amazing achievements of humankind is the discovery that differentiation and integration are inverse operations, in a certain well-defined manner."
      ],
      "metadata": {
        "id": "jUdYLq6Qjkvx"
      },
      "id": "jUdYLq6Qjkvx"
    },
    {
      "cell_type": "markdown",
      "source": [
        "* [Wikipedia: Integral](https://en.wikipedia.org/wiki/Integral)\n",
        "* [Wikipedia: Fundamental theorem of calculus](https://en.wikipedia.org/wiki/Fundamental_theorem_of_calculus)"
      ],
      "metadata": {
        "id": "vYBY5faXMTII"
      },
      "id": "vYBY5faXMTII"
    },
    {
      "cell_type": "markdown",
      "source": [
        "The **integral** of a real-valued function $f: X\\to \\mathbf{R}$ w.r.t. the variable $x$ on an interval $[a,b]$ is denoted by $$\\int_a^b f(x)dx$$\n",
        "\n",
        "Here\n",
        "* the differential $dx$ of the variable $x$ tells us the the variable of integration\n",
        "* the function $f(x)$ is called *integrand*\n",
        "* $a$ and $b$ are called limits or bounds of integration\n",
        "\n",
        "A function is *integrable* if its integral is finite. When the limits $a$ and $b$ are specified, the integral is called *definite integral*.\n",
        "\n",
        "If the limits are omitted and we write as $$\\int f(x)dx$$ the integral is so-called *indefinite integral*. It represents the set of all functions whose derivative function is the integrand,"
      ],
      "metadata": {
        "id": "IqfMYzQHoHOD"
      },
      "id": "IqfMYzQHoHOD"
    },
    {
      "cell_type": "markdown",
      "source": [
        "### Fundamental theorem of calculus"
      ],
      "metadata": {
        "id": "2X8yIrV6nbMd"
      },
      "id": "2X8yIrV6nbMd"
    },
    {
      "cell_type": "markdown",
      "source": [
        "The fundamental theorem of calculus relates indefinite integrals and calculation the value of definite integral."
      ],
      "metadata": {
        "id": "09XI6kF4ng5M"
      },
      "id": "09XI6kF4ng5M"
    },
    {
      "cell_type": "markdown",
      "source": [
        "**The first fundamental theorem of calculus** <br />\n",
        "Suppose $f$ is a continuous real-valued function $f:X\\to\\mathbf{R}$ defined on a closed interval $[a,b]$. Define the function $F:[a,b]\\to\\mathbf{R}$ by $$F(x)=\\int_a^x f(t)dt.$$\n",
        "Then $F$ is continuous on $[a,b]$ and differentiable on the open interval $(a,b)$ and $$F^\\prime(x)=f(x).$$ for all $x\\in (a,b)$. Therefore $F$ is the antiderivative of $f$.\n"
      ],
      "metadata": {
        "id": "DBeJTmx-rb2V"
      },
      "id": "DBeJTmx-rb2V"
    },
    {
      "cell_type": "markdown",
      "source": [
        "**Corollary** (*Weaker version of the second fundamental theorem of calculus*) <br />\n",
        "If $f:[a,b]\\to \\mathbf{R}$ is a continuous real-valued function on closed interval $[a,b]$ and $F$ is an antiderivative of $f$ in $[a,b]$, then $$\\int_a^b f(t)dt = F(b)-F(a).$$\n"
      ],
      "metadata": {
        "id": "jNAqilZvu6QP"
      },
      "id": "jNAqilZvu6QP"
    },
    {
      "cell_type": "markdown",
      "source": [
        "In what follows, we refer to as the so-called *Riemann integral*. The reader should be aware that there are several other integrals, mostly generalizations of the Riemann integral.\n",
        "* [Wikipedia: Integral](https://en.wikipedia.org/wiki/Integral)"
      ],
      "metadata": {
        "id": "vdxlCkD8ww0f"
      },
      "id": "vdxlCkD8ww0f"
    },
    {
      "cell_type": "markdown",
      "source": [
        "#### Some properties of integrals"
      ],
      "metadata": {
        "id": "Q_ARzpf3xaOR"
      },
      "id": "Q_ARzpf3xaOR"
    },
    {
      "cell_type": "markdown",
      "source": [
        "* $\\int_a^b f(x)dx = -\\int_b^a f(x)dx$\n",
        "* $\\int_a^a f(x)dx = 0$\n",
        "* $\\int_a^b f(x)dx = \\int_a^c f(x)dx + \\int_c^b f(x)dx$, for any $c\\in [a, b]$\n",
        "* linearity: $\\int_a^b (\\alpha\\cdot f + \\beta\\cdot g)(x)dx = \\alpha\\int_a^b f(x)dx + \\beta \\int_a^b g(x)dx$, for $\\alpha,\\beta\\in\\mathbf{R}$\n",
        "* boundedness: if $m\\leq f(x)\\leq M$ for all $x\\in [a,b]$, then $m\\cdot (b-a)\\leq \\int_a^b f(x)dx\\leq M\\cdot (b-a)$.\n",
        "* inequalities: if $f(x)\\leq g(x)$ for all $x\\in [a,b]$, then $\\int_a^b f(x)dx\\leq \\int_a^b g(x)dx$."
      ],
      "metadata": {
        "id": "xpXwtk2IyF6m"
      },
      "id": "xpXwtk2IyF6m"
    },
    {
      "cell_type": "markdown",
      "source": [
        "Let us compute an integral. Again, we use the function $f:\\mathbf{R}\\to\\mathbf{R}$, $f(x)=x^3$, as an example.\n",
        "\n",
        "We first calculate $\\int_1^3 f(x)dx$. As an educated guess we can use the antiderivative $F(x)=\\frac{1}{4}x^4$.\n",
        "\n",
        "$$\\int_1^3 x^3 dx = F(3) - F(1) = \\frac{3^4}{4} - \\frac{1^4}{4} = 20\\frac{1}{4} - \\frac{1}{4} = 20.$$"
      ],
      "metadata": {
        "id": "0e8aGYh01mMu"
      },
      "id": "0e8aGYh01mMu"
    },
    {
      "cell_type": "markdown",
      "source": [
        "Some common integral functions include:\n",
        "\n",
        "* $\\int a dx = ax + c$, for $a\\in\\mathbf{R}$\n",
        "* $\\int x^n dx = \\frac{x^{n+1}}{n+1}+c$, when $n\\not=-1$\n",
        "* $\\int\\frac{1}{x} dx = \\ln |x|+c$\n",
        "* $\\int e^{a\\cdot x} dx = \\frac{1}{a}e^{a\\cdot x} + c$\n",
        "* $\\int a^x dx = \\frac{a^x}{\\ln a} + c$\n",
        "\n",
        "for all $c\\in\\mathbf{R}$."
      ],
      "metadata": {
        "id": "8hHZNpae3-Y1"
      },
      "id": "8hHZNpae3-Y1"
    },
    {
      "cell_type": "markdown",
      "source": [
        "### Integrals with SymPy"
      ],
      "metadata": {
        "id": "lRlJqr7u6wVZ"
      },
      "id": "lRlJqr7u6wVZ"
    },
    {
      "cell_type": "markdown",
      "source": [
        "Integration is easy with SYmPy's function **integrate()**. With that we can determine both definite and indefinite integrals."
      ],
      "metadata": {
        "id": "VkjSOyJRL_yB"
      },
      "id": "VkjSOyJRL_yB"
    },
    {
      "cell_type": "markdown",
      "source": [
        "The user should, however, notice that when finding antiderivatives of a function, SymPy does not include the constant $c\\in\\mathbf{R}$ in the results."
      ],
      "metadata": {
        "id": "30ymdvQINEJo"
      },
      "id": "30ymdvQINEJo"
    },
    {
      "cell_type": "code",
      "source": [
        "from sympy import symbols, diff, integrate\n",
        "\n",
        "x, y = symbols('x y')\n",
        "\n",
        "expr1 = x**3\n",
        "\n",
        "expr1_int = integrate(expr1, x)\n",
        "\n",
        "\n",
        "expr1_int\n"
      ],
      "metadata": {
        "colab": {
          "base_uri": "https://localhost:8080/",
          "height": 54
        },
        "id": "SeR_mEKqMz0Z",
        "outputId": "5381dd8c-bbe5-4b02-892d-aae2644f2129"
      },
      "id": "SeR_mEKqMz0Z",
      "execution_count": 33,
      "outputs": [
        {
          "output_type": "execute_result",
          "data": {
            "text/plain": [
              "x**4/4"
            ],
            "text/latex": "$\\displaystyle \\frac{x^{4}}{4}$"
          },
          "metadata": {},
          "execution_count": 33
        }
      ]
    },
    {
      "cell_type": "code",
      "source": [],
      "metadata": {
        "id": "v3Phdk9zQK4f"
      },
      "id": "v3Phdk9zQK4f",
      "execution_count": 33,
      "outputs": []
    },
    {
      "cell_type": "code",
      "source": [
        "a, b = 2, 5\n",
        "expr2 = a*x**3 + b*x\n",
        "\n",
        "expr2_int = integrate(expr2, x)\n",
        "\n",
        "expr2_int"
      ],
      "metadata": {
        "colab": {
          "base_uri": "https://localhost:8080/",
          "height": 54
        },
        "id": "E-CeS4uEPy8m",
        "outputId": "5061168f-00db-4c64-d33f-10f906d6e96b"
      },
      "id": "E-CeS4uEPy8m",
      "execution_count": 34,
      "outputs": [
        {
          "output_type": "execute_result",
          "data": {
            "text/plain": [
              "x**4/2 + 5*x**2/2"
            ],
            "text/latex": "$\\displaystyle \\frac{x^{4}}{2} + \\frac{5 x^{2}}{2}$"
          },
          "metadata": {},
          "execution_count": 34
        }
      ]
    },
    {
      "cell_type": "code",
      "source": [
        "expr1_def_int = integrate(expr1, (x, 1, 3))\n",
        "\n",
        "expr1_def_int"
      ],
      "metadata": {
        "colab": {
          "base_uri": "https://localhost:8080/",
          "height": 37
        },
        "id": "LvN4p6hfQPnT",
        "outputId": "9348e3e3-e48b-4129-8b55-f6d18a55f4e9"
      },
      "id": "LvN4p6hfQPnT",
      "execution_count": 35,
      "outputs": [
        {
          "output_type": "execute_result",
          "data": {
            "text/plain": [
              "20"
            ],
            "text/latex": "$\\displaystyle 20$"
          },
          "metadata": {},
          "execution_count": 35
        }
      ]
    },
    {
      "cell_type": "code",
      "source": [
        "expr2_def_int = integrate(expr2, (x, 0, 10))\n",
        "\n",
        "expr2_def_int"
      ],
      "metadata": {
        "colab": {
          "base_uri": "https://localhost:8080/",
          "height": 37
        },
        "id": "c-0QZocpR27i",
        "outputId": "7207ddba-d972-4022-f295-324aeaec0a08"
      },
      "id": "c-0QZocpR27i",
      "execution_count": 36,
      "outputs": [
        {
          "output_type": "execute_result",
          "data": {
            "text/plain": [
              "5250"
            ],
            "text/latex": "$\\displaystyle 5250$"
          },
          "metadata": {},
          "execution_count": 36
        }
      ]
    },
    {
      "cell_type": "code",
      "source": [
        "expr3 = x/exp(x)\n",
        "\n",
        "expr3_def_int =integrate(expr3, (x, 0, sympy.oo))\n",
        "\n",
        "expr3_def_int"
      ],
      "metadata": {
        "colab": {
          "base_uri": "https://localhost:8080/",
          "height": 37
        },
        "id": "ndp0NpGqSOh4",
        "outputId": "c383b325-aeb4-46ee-8e84-2334247af386"
      },
      "id": "ndp0NpGqSOh4",
      "execution_count": 37,
      "outputs": [
        {
          "output_type": "execute_result",
          "data": {
            "text/plain": [
              "1"
            ],
            "text/latex": "$\\displaystyle 1$"
          },
          "metadata": {},
          "execution_count": 37
        }
      ]
    },
    {
      "cell_type": "code",
      "execution_count": 38,
      "id": "78a80489-382d-43cd-8953-bcec00a02d7f",
      "metadata": {
        "colab": {
          "base_uri": "https://localhost:8080/"
        },
        "id": "78a80489-382d-43cd-8953-bcec00a02d7f",
        "outputId": "37308d6d-3c85-4c06-cff2-20f6e1fe9db1"
      },
      "outputs": [
        {
          "output_type": "stream",
          "name": "stdout",
          "text": [
            "Last modified 2025-02-07 01:15 by Juha Nurmonen\n"
          ]
        }
      ],
      "source": [
        "import datetime\n",
        "import pytz\n",
        "\n",
        "tz = pytz.timezone('Europe/Helsinki')\n",
        "print(f'Last modified {tz.localize(datetime.datetime.now()):%Y-%m-%d %H:%M} by Juha Nurmonen')"
      ]
    }
  ],
  "metadata": {
    "kernelspec": {
      "display_name": "Python 3 (ipykernel)",
      "language": "python",
      "name": "python3"
    },
    "language_info": {
      "codemirror_mode": {
        "name": "ipython",
        "version": 3
      },
      "file_extension": ".py",
      "mimetype": "text/x-python",
      "name": "python",
      "nbconvert_exporter": "python",
      "pygments_lexer": "ipython3",
      "version": "3.10.13"
    },
    "colab": {
      "provenance": []
    }
  },
  "nbformat": 4,
  "nbformat_minor": 5
}